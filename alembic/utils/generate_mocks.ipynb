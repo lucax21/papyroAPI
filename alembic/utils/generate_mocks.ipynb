{
 "cells": [
  {
   "cell_type": "code",
   "execution_count": 9,
   "metadata": {
    "collapsed": true,
    "pycharm": {
     "name": "#%%\n"
    }
   },
   "outputs": [],
   "source": [
    "import names\n",
    "import re\n",
    "import functions.markovgen as markovgen\n",
    "import random\n",
    "import uuid\n",
    "\n",
    "from datetime import datetime\n",
    "from time import time\n",
    "from functions.get_book import *"
   ]
  },
  {
   "cell_type": "code",
   "execution_count": 15,
   "outputs": [],
   "source": [
    "def random_date(timex=False):\n",
    "    random.seed(random.random())\n",
    "    d = random.randint(1, int(time()))\n",
    "\n",
    "    if timex:\n",
    "        return datetime.fromtimestamp(d).strftime('%Y-%m-%d %H:%M:%S')\n",
    "    return datetime.fromtimestamp(d).strftime('%Y-%m-%d')"
   ],
   "metadata": {
    "collapsed": false,
    "pycharm": {
     "name": "#%%\n"
    }
   }
  },
  {
   "cell_type": "markdown",
   "source": [
    "# Users"
   ],
   "metadata": {
    "collapsed": false,
    "pycharm": {
     "name": "#%% md\n"
    }
   }
  },
  {
   "cell_type": "code",
   "execution_count": 76,
   "outputs": [],
   "source": [
    "regex = re.compile('[^a-zA-Z ]')\n",
    "\n",
    "file_ = open('text.txt')\n",
    "results_ = open('./mocks/users.txt', 'w')\n",
    "\n",
    "markov = markovgen.Markov(file_)\n",
    "\n",
    "for i in range(4, 500):\n",
    "    name = names.get_full_name()\n",
    "\n",
    "    person = [i,\n",
    "              name.lower().replace(' ', '.') + '@teste.com',\n",
    "              name,\n",
    "              name.split(' ')[0],\n",
    "              regex.sub('', markov.generate_markov_text(5).capitalize()),\n",
    "              '$2b$12$oVdwTmriZq4StlbbFXIrlO9WxXbwg5TRnv6xIiRBh7OQfdnTb12nu',\n",
    "              random_date(),\n",
    "              'https://clipground.com/images/clipart-profile-6.jpg',\n",
    "              True,\n",
    "              str(uuid.uuid4())]\n",
    "\n",
    "    results_.write('(')\n",
    "    results_.write(',\\n'.join([f\"'{w}'\"for w in person]))\n",
    "    results_.write('), \\n')\n",
    "\n",
    "file_.close()\n",
    "results_.close()"
   ],
   "metadata": {
    "collapsed": false,
    "pycharm": {
     "name": "#%%\n"
    }
   }
  },
  {
   "cell_type": "markdown",
   "source": [
    "# Books"
   ],
   "metadata": {
    "collapsed": false,
    "pycharm": {
     "name": "#%% md\n"
    }
   }
  },
  {
   "cell_type": "code",
   "execution_count": 11,
   "outputs": [],
   "source": [
    "words = ('cara', 'menina', 'menino', 'dragão', 'bruxa', 'água', 'tempo', 'chuva', 'terra', 'choro', 'brasil', 'pedra', 'nome')\n",
    "\n",
    "aux, id, i = 0, 1, 0\n",
    "\n",
    "results_ = open('./mocks/books.txt', 'w')\n",
    "\n",
    "while id < 2000:\n",
    "    books = get_by_term(words[aux], i)\n",
    "    try:\n",
    "        for book in books['items']:\n",
    "            results_.write(f\"({id}, '{book['id']}'),\\n\")\n",
    "            id += 1\n",
    "    except:\n",
    "        aux += 1\n",
    "        i = 0\n",
    "\n",
    "results_.close()"
   ],
   "metadata": {
    "collapsed": false,
    "pycharm": {
     "name": "#%%\n"
    }
   }
  },
  {
   "cell_type": "markdown",
   "source": [
    "# User Books"
   ],
   "metadata": {
    "collapsed": false,
    "pycharm": {
     "name": "#%% md\n"
    }
   }
  },
  {
   "cell_type": "code",
   "execution_count": 23,
   "outputs": [],
   "source": [
    "id = 1\n",
    "\n",
    "results_ = open('./mocks/user_book.txt', 'w')\n",
    "all_combinations = []\n",
    "while id < 1500:\n",
    "    combination = [random.randint(1, 2000), random.randint(1, 499)]\n",
    "    if combination not in all_combinations:\n",
    "        results_.write(f\"({combination[0]}, {combination[1]}, {random.randint(1, 3)}, '{random_date(True)}'),\\n\")\n",
    "        id += 1\n",
    "        all_combinations.append(combination)\n",
    "\n",
    "results_.close()"
   ],
   "metadata": {
    "collapsed": false,
    "pycharm": {
     "name": "#%%\n"
    }
   }
  },
  {
   "cell_type": "markdown",
   "source": [
    "# User Genre"
   ],
   "metadata": {
    "collapsed": false,
    "pycharm": {
     "name": "#%% md\n"
    }
   }
  },
  {
   "cell_type": "code",
   "execution_count": 25,
   "outputs": [],
   "source": [
    "id = 0\n",
    "\n",
    "results_ = open('./mocks/user_genre.txt', 'w')\n",
    "all_combinations = []\n",
    "while id < 1200:\n",
    "    combination = [random.randint(1, 10), random.randint(1, 499)]\n",
    "    if combination not in all_combinations:\n",
    "        results_.write(f\"({combination[0]}, {combination[1]}),\\n\")\n",
    "        id += 1\n",
    "        all_combinations.append(combination)\n",
    "results_.close()"
   ],
   "metadata": {
    "collapsed": false,
    "pycharm": {
     "name": "#%%\n"
    }
   }
  },
  {
   "cell_type": "markdown",
   "source": [
    "# Friends"
   ],
   "metadata": {
    "collapsed": false,
    "pycharm": {
     "name": "#%% md\n"
    }
   }
  },
  {
   "cell_type": "code",
   "execution_count": 41,
   "outputs": [],
   "source": [
    "id = 0\n",
    "\n",
    "results_ = open('./mocks/friend.txt', 'w')\n",
    "all_combinations = []\n",
    "while id < 1500:\n",
    "    combination = [random.randint(1, 499), random.randint(1, 499)]\n",
    "    if combination not in all_combinations \\\n",
    "            and combination[0] != combination[1]\\\n",
    "            and combination[::-1] not in all_combinations:\n",
    "        results_.write(f\"({bool(random.getrandbits(1))}, \"\n",
    "                       f\"{bool(random.getrandbits(1))}, \"\n",
    "                       f\"{combination[0]}, \"\n",
    "                       f\"{combination[1]}),\\n\")\n",
    "        id += 1\n",
    "        all_combinations.append(combination)\n",
    "\n",
    "results_.close()"
   ],
   "metadata": {
    "collapsed": false,
    "pycharm": {
     "name": "#%%\n"
    }
   }
  },
  {
   "cell_type": "code",
   "execution_count": 39,
   "outputs": [
    {
     "data": {
      "text/plain": "[204, 1]"
     },
     "execution_count": 39,
     "metadata": {},
     "output_type": "execute_result"
    }
   ],
   "source": [],
   "metadata": {
    "collapsed": false,
    "pycharm": {
     "name": "#%%\n"
    }
   }
  }
 ],
 "metadata": {
  "kernelspec": {
   "display_name": "Python 3",
   "language": "python",
   "name": "python3"
  },
  "language_info": {
   "codemirror_mode": {
    "name": "ipython",
    "version": 2
   },
   "file_extension": ".py",
   "mimetype": "text/x-python",
   "name": "python",
   "nbconvert_exporter": "python",
   "pygments_lexer": "ipython2",
   "version": "2.7.6"
  }
 },
 "nbformat": 4,
 "nbformat_minor": 0
}