{
 "cells": [
  {
   "cell_type": "code",
   "execution_count": 1,
   "metadata": {
    "collapsed": true,
    "pycharm": {
     "name": "#%%\n"
    }
   },
   "outputs": [],
   "source": [
    "import names\n",
    "import re\n",
    "import functions.markovgen as markovgen\n",
    "import random\n",
    "import uuid\n",
    "\n",
    "from datetime import datetime\n",
    "from time import time\n",
    "from functions.get_book import *"
   ]
  },
  {
   "cell_type": "code",
   "execution_count": 2,
   "outputs": [],
   "source": [
    "def random_date(timex=False):\n",
    "    random.seed(random.random())\n",
    "    d = random.randint(1, int(time()))\n",
    "\n",
    "    if timex:\n",
    "        return datetime.fromtimestamp(d).strftime('%Y-%m-%d %H:%M:%S')\n",
    "    return datetime.fromtimestamp(d).strftime('%Y-%m-%d')"
   ],
   "metadata": {
    "collapsed": false,
    "pycharm": {
     "name": "#%%\n"
    }
   }
  },
  {
   "cell_type": "markdown",
   "source": [
    "# Users"
   ],
   "metadata": {
    "collapsed": false,
    "pycharm": {
     "name": "#%% md\n"
    }
   }
  },
  {
   "cell_type": "code",
   "execution_count": 13,
   "outputs": [],
   "source": [
    "regex = re.compile('[^a-zA-Z ]')\n",
    "\n",
    "file_ = open('descripton_text/text.txt')\n",
    "results_ = open('./mocks/users.txt', 'w')\n",
    "\n",
    "markov = markovgen.Markov(file_)\n",
    "results_.write(r'INSERT INTO \"user\"(email, name, nickname, description, password, birthday, photo, active, confirmation)')\n",
    "results_.write('\\n')\n",
    "results_.write('VALUES ')\n",
    "for i in range(4, 100):\n",
    "    name = names.get_full_name()\n",
    "\n",
    "    person = [name.lower().replace(' ', '.') + '@teste.com',\n",
    "              name,\n",
    "              name.split(' ')[0],\n",
    "              regex.sub('', markov.generate_markov_text(5).capitalize()),\n",
    "              '$2b$12$oVdwTmriZq4StlbbFXIrlO9WxXbwg5TRnv6xIiRBh7OQfdnTb12nu',\n",
    "              random_date(),\n",
    "              'https://clipground.com/images/clipart-profile-6.jpg',\n",
    "              True,\n",
    "              str(uuid.uuid4())]\n",
    "\n",
    "    results_.write('(')\n",
    "    results_.write(',\\n'.join([f\"'{w}'\"for w in person]))\n",
    "    results_.write('), \\n')\n",
    "\n",
    "file_.close()\n",
    "results_.close()"
   ],
   "metadata": {
    "collapsed": false,
    "pycharm": {
     "name": "#%%\n"
    }
   }
  },
  {
   "cell_type": "markdown",
   "source": [
    "# Books"
   ],
   "metadata": {
    "collapsed": false,
    "pycharm": {
     "name": "#%% md\n"
    }
   }
  },
  {
   "cell_type": "code",
   "execution_count": 4,
   "outputs": [
    {
     "name": "stdout",
     "output_type": "stream",
     "text": [
      "1025\r"
     ]
    }
   ],
   "source": [
    "words = ('cara', 'menina', 'menino', 'dragão', 'bruxa', 'água', 'tempo', 'chuva', 'terra', 'choro', 'brasil', 'pedra', 'nome')\n",
    "\n",
    "aux, id, i = 0, 1, 0\n",
    "results_ = open('./mocks/books.txt', 'w')\n",
    "\n",
    "results_.write(r'INSERT INTO book(identifier)')\n",
    "results_.write('\\n')\n",
    "results_.write('VALUES ')\n",
    "list_of_books = []\n",
    "while id < 1000:\n",
    "    while True:\n",
    "        books = get_by_term(words[aux], i)\n",
    "        if 'items' not in books or id > 1000:\n",
    "            break\n",
    "        for book in books['items']:\n",
    "            if book['id'] not in list_of_books:\n",
    "                results_.write(f\"({id}, '{book['id']}'),\\n\")\n",
    "                print(id, end='\\r')\n",
    "                id += 1\n",
    "                list_of_books.append(book['id'])\n",
    "        i += 1\n",
    "    aux += 1\n",
    "    i = 0\n",
    "\n",
    "    if aux > len(words) - 1:\n",
    "        break\n",
    "\n",
    "results_.close()"
   ],
   "metadata": {
    "collapsed": false,
    "pycharm": {
     "name": "#%%\n"
    }
   }
  },
  {
   "cell_type": "markdown",
   "source": [
    "# User Books e Rate e Likes"
   ],
   "metadata": {
    "collapsed": false,
    "pycharm": {
     "name": "#%% md\n"
    }
   }
  },
  {
   "cell_type": "code",
   "execution_count": 5,
   "outputs": [],
   "source": [
    "regex = re.compile('[^a-zA-Z ]')\n",
    "\n",
    "id = 1\n",
    "id_aux = 1\n",
    "id_aux_2 = 1\n",
    "\n",
    "results_ = open('./mocks/user_book.txt', 'w')\n",
    "results_rate = open('./mocks/rate.txt', 'w')\n",
    "results_likes = open('./mocks/likes_rates.txt', 'w')\n",
    "\n",
    "file_ = open('descripton_text/biblia.txt', encoding='utf-8')\n",
    "markov = markovgen.Markov(file_)\n",
    "\n",
    "results_.write(r'INSERT INTO user_book(fk_book, fk_user, fk_status, date)')\n",
    "results_.write('\\n')\n",
    "results_.write('VALUES ')\n",
    "\n",
    "results_rate.write(r' INSERT INTO rate(text, date, rate, likes, fk_user, fk_book)')\n",
    "results_rate.write('\\n')\n",
    "results_rate.write('VALUES ')\n",
    "\n",
    "results_likes.write(r' INSERT INTO \"like\"(fk_comment, fk_rate, fk_user) ')\n",
    "results_likes.write('\\n')\n",
    "results_likes.write('VALUES ')\n",
    "\n",
    "all_combinations = []\n",
    "while id < 1500:\n",
    "    combination = [random.randint(1, 1000), random.randint(1,99)]\n",
    "    #Adiciona UserBook\n",
    "    if combination not in all_combinations:\n",
    "        status = random.randint(1, 3)\n",
    "        date = random_date(True)\n",
    "        results_.write(f\"({combination[0]}, {combination[1]}, {status}, '{date}'),\\n\")\n",
    "        all_combinations.append(combination)\n",
    "        # Se tiver for Lido\n",
    "        if status == 2:\n",
    "            likes = random.randint(0, 40)\n",
    "            text = markov.generate_markov_text(random.randint(50, 200)).replace(\"'\", \"\").replace(':', '').capitalize()\n",
    "            results_rate.write(f\"({id_aux}, '{text}', '{date}', {random.randint(1, 5)}, {likes}, {combination[1]}, {combination[0]}),\\n\")\n",
    "\n",
    "            #Se tiver likes\n",
    "            if likes > 1:\n",
    "                likes_list = []\n",
    "                nlikes = 0\n",
    "                while nlikes < likes:\n",
    "                    who_likes = random.randint(1, 99)\n",
    "                    if who_likes not in likes_list:\n",
    "                        results_likes.write(f\"({id_aux_2}, NULL, {id_aux}, {who_likes}),\\n\")\n",
    "                        id_aux_2 += 1\n",
    "                        nlikes += 1\n",
    "                        likes_list.append(who_likes)\n",
    "            id_aux += 1\n",
    "        id += 1\n",
    "\n",
    "\n",
    "file_.close()\n",
    "results_.close()\n",
    "results_rate.close()\n",
    "results_likes.close()"
   ],
   "metadata": {
    "collapsed": false,
    "pycharm": {
     "name": "#%%\n"
    }
   }
  },
  {
   "cell_type": "markdown",
   "source": [
    "# User Genre"
   ],
   "metadata": {
    "collapsed": false,
    "pycharm": {
     "name": "#%% md\n"
    }
   }
  },
  {
   "cell_type": "code",
   "execution_count": 9,
   "outputs": [],
   "source": [
    "id = 0\n",
    "\n",
    "results_ = open('./mocks/user_genre.txt', 'w')\n",
    "\n",
    "results_.write(r'INSERT INTO user_genre(fk_genre, fk_user)')\n",
    "results_.write('\\n')\n",
    "results_.write('VALUES ')\n",
    "\n",
    "all_combinations = []\n",
    "while id < 700:\n",
    "    combination = [random.randint(1, 10), random.randint(1, 99)]\n",
    "    if combination not in all_combinations:\n",
    "        results_.write(f\"({combination[0]}, {combination[1]}),\\n\")\n",
    "        id += 1\n",
    "        all_combinations.append(combination)\n",
    "results_.close()"
   ],
   "metadata": {
    "collapsed": false,
    "pycharm": {
     "name": "#%%\n"
    }
   }
  },
  {
   "cell_type": "markdown",
   "source": [
    "# Friends"
   ],
   "metadata": {
    "collapsed": false,
    "pycharm": {
     "name": "#%% md\n"
    }
   }
  },
  {
   "cell_type": "code",
   "execution_count": 10,
   "outputs": [],
   "source": [
    "id = 0\n",
    "\n",
    "results_ = open('./mocks/friend.txt', 'w')\n",
    "\n",
    "\n",
    "results_.write(r'INSERT INTO friend(pending, ignored, fk_origin, fk_destiny)')\n",
    "results_.write('\\n')\n",
    "results_.write('VALUES ')\n",
    "all_combinations = []\n",
    "while id < 1500:\n",
    "    combination = [random.randint(1, 99), random.randint(1, 99)]\n",
    "    if combination not in all_combinations \\\n",
    "            and combination[0] != combination[1]\\\n",
    "            and combination[::-1] not in all_combinations:\n",
    "        results_.write(f\"({bool(random.getrandbits(1))}, \"\n",
    "                       f\"{bool(random.getrandbits(1))}, \"\n",
    "                       f\"{combination[0]}, \"\n",
    "                       f\"{combination[1]}),\\n\")\n",
    "        id += 1\n",
    "        all_combinations.append(combination)\n",
    "\n",
    "results_.close()"
   ],
   "metadata": {
    "collapsed": false,
    "pycharm": {
     "name": "#%%\n"
    }
   }
  },
  {
   "cell_type": "markdown",
   "source": [
    "# Comments"
   ],
   "metadata": {
    "collapsed": false,
    "pycharm": {
     "name": "#%% md\n"
    }
   }
  },
  {
   "cell_type": "code",
   "execution_count": 12,
   "outputs": [
    {
     "data": {
      "text/plain": "<function TextIOWrapper.close()>"
     },
     "execution_count": 12,
     "metadata": {},
     "output_type": "execute_result"
    }
   ],
   "source": [
    "file_ = open('descripton_text/biblia.txt', encoding='utf-8')\n",
    "results_ = open('./mocks/comments.txt', 'w')\n",
    "results_likes = open('./mocks/likes_comments.txt', 'w')\n",
    "\n",
    "markov = markovgen.Markov(file_)\n",
    "id = 1\n",
    "\n",
    "results_.write(r'INSERT INTO \"comment\"(date, text, likes, fk_user, fk_rate)')\n",
    "results_.write('\\n')\n",
    "results_.write('VALUES ')\n",
    "\n",
    "results_likes.write(r'INSERT INTO \"like\"(fk_comment, fk_rate, fk_user) ')\n",
    "results_likes.write('\\n')\n",
    "results_likes.write('VALUES ')\n",
    "\n",
    "all_combinations = []\n",
    "while id < 2500:\n",
    "    combination = [random.randint(1, 99), random.randint(1, id_aux - 1)]\n",
    "    if combination not in all_combinations:\n",
    "        likes = random.randint(0, 20)\n",
    "        text = markov.generate_markov_text(random.randint(1, 30)).replace(\"'\", \"\").replace(':', '').capitalize()\n",
    "        results_.write(f\"({id}, '{random_date(True)}', '{text}', {likes}, {combination[0]}, {combination[1]}),\\n\")\n",
    "        id += 1\n",
    "        all_combinations.append(combination)\n",
    "\n",
    "        if likes > 1:\n",
    "            likes_list = []\n",
    "            nlikes = 0\n",
    "            while nlikes < likes:\n",
    "                who_likes = random.randint(1, 99)\n",
    "                if who_likes not in likes_list:\n",
    "                    results_likes.write(f\"({id_aux_2}, {id}, NULL, {who_likes}),\\n\")\n",
    "                    id_aux_2 += 1\n",
    "                    nlikes += 1\n",
    "                    likes_list.append(who_likes)\n",
    "\n",
    "\n",
    "results_.close()\n",
    "results_likes.close()\n",
    "file_.close"
   ],
   "metadata": {
    "collapsed": false,
    "pycharm": {
     "name": "#%%\n"
    }
   }
  }
 ],
 "metadata": {
  "kernelspec": {
   "display_name": "Python 3",
   "language": "python",
   "name": "python3"
  },
  "language_info": {
   "codemirror_mode": {
    "name": "ipython",
    "version": 2
   },
   "file_extension": ".py",
   "mimetype": "text/x-python",
   "name": "python",
   "nbconvert_exporter": "python",
   "pygments_lexer": "ipython2",
   "version": "2.7.6"
  }
 },
 "nbformat": 4,
 "nbformat_minor": 0
}